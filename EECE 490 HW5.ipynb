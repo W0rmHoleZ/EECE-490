{
 "cells": [
  {
   "cell_type": "markdown",
   "id": "8ca1520d-1b45-4854-af75-564274fcbcc5",
   "metadata": {},
   "source": [
    "# PART A LINK SUBMISSION HERE - Google Docs\n",
    "https://docs.google.com/document/d/11TD6UbdBGXgfR6d7mfKndAF1ip2ik2nAH2D9upuJm-w/edit?tab=t.0\n",
    "\n",
    "## Members:\n",
    "* Lana Houri Homsi 202300443\n",
    "* Ibrahim Seblini 202306845\n",
    "* Walid Zubdeh 202302117\n",
    "\n",
    "## 1. Import the dataset and perform data preprocessing (handle missing data, normalization):"
   ]
  },
  {
   "cell_type": "code",
   "execution_count": 4,
   "id": "31e833c1-d815-4f40-b40d-d97238573fc1",
   "metadata": {},
   "outputs": [
    {
     "data": {
      "text/html": [
       "<div>\n",
       "<style scoped>\n",
       "    .dataframe tbody tr th:only-of-type {\n",
       "        vertical-align: middle;\n",
       "    }\n",
       "\n",
       "    .dataframe tbody tr th {\n",
       "        vertical-align: top;\n",
       "    }\n",
       "\n",
       "    .dataframe thead th {\n",
       "        text-align: right;\n",
       "    }\n",
       "</style>\n",
       "<table border=\"1\" class=\"dataframe\">\n",
       "  <thead>\n",
       "    <tr style=\"text-align: right;\">\n",
       "      <th></th>\n",
       "      <th>age</th>\n",
       "      <th>bmi</th>\n",
       "      <th>charges</th>\n",
       "      <th>smoker</th>\n",
       "    </tr>\n",
       "  </thead>\n",
       "  <tbody>\n",
       "    <tr>\n",
       "      <th>0</th>\n",
       "      <td>25</td>\n",
       "      <td>18.5</td>\n",
       "      <td>16884.9</td>\n",
       "      <td>1</td>\n",
       "    </tr>\n",
       "    <tr>\n",
       "      <th>1</th>\n",
       "      <td>45</td>\n",
       "      <td>24.0</td>\n",
       "      <td>1725.6</td>\n",
       "      <td>0</td>\n",
       "    </tr>\n",
       "    <tr>\n",
       "      <th>2</th>\n",
       "      <td>35</td>\n",
       "      <td>28.0</td>\n",
       "      <td>4449.4</td>\n",
       "      <td>0</td>\n",
       "    </tr>\n",
       "    <tr>\n",
       "      <th>3</th>\n",
       "      <td>50</td>\n",
       "      <td>22.5</td>\n",
       "      <td>21984.5</td>\n",
       "      <td>1</td>\n",
       "    </tr>\n",
       "    <tr>\n",
       "      <th>4</th>\n",
       "      <td>23</td>\n",
       "      <td>30.1</td>\n",
       "      <td>3866.9</td>\n",
       "      <td>0</td>\n",
       "    </tr>\n",
       "  </tbody>\n",
       "</table>\n",
       "</div>"
      ],
      "text/plain": [
       "   age   bmi  charges  smoker\n",
       "0   25  18.5  16884.9       1\n",
       "1   45  24.0   1725.6       0\n",
       "2   35  28.0   4449.4       0\n",
       "3   50  22.5  21984.5       1\n",
       "4   23  30.1   3866.9       0"
      ]
     },
     "execution_count": 4,
     "metadata": {},
     "output_type": "execute_result"
    }
   ],
   "source": [
    "import numpy as np \n",
    "import pandas as pd\n",
    "df=pd.read_excel('Dataset.xlsx')\n",
    "df.head()"
   ]
  },
  {
   "cell_type": "code",
   "execution_count": 6,
   "id": "a31156a5",
   "metadata": {},
   "outputs": [
    {
     "data": {
      "text/plain": [
       "(10, 4)"
      ]
     },
     "execution_count": 6,
     "metadata": {},
     "output_type": "execute_result"
    }
   ],
   "source": [
    "df.shape"
   ]
  },
  {
   "cell_type": "code",
   "execution_count": 7,
   "id": "2e82324e",
   "metadata": {},
   "outputs": [
    {
     "name": "stdout",
     "output_type": "stream",
     "text": [
      "age        0\n",
      "bmi        0\n",
      "charges    0\n",
      "smoker     0\n",
      "dtype: int64\n"
     ]
    }
   ],
   "source": [
    "print(df.isnull().sum())"
   ]
  },
  {
   "cell_type": "markdown",
   "id": "b387c82d",
   "metadata": {},
   "source": [
    "we can see that there isn't any missing values \n",
    "\n",
    "**Normalization:**"
   ]
  },
  {
   "cell_type": "code",
   "execution_count": 9,
   "id": "b91780dc",
   "metadata": {},
   "outputs": [
    {
     "name": "stdout",
     "output_type": "stream",
     "text": [
      "             age        bmi    charges     smoker\n",
      "count  10.000000  10.000000  10.000000  10.000000\n",
      "mean    0.661667   0.809302   0.403748   0.400000\n",
      "std     0.209209   0.139273   0.301531   0.516398\n",
      "min     0.383333   0.614618   0.078492   0.000000\n",
      "25%     0.525000   0.685216   0.182516   0.000000\n",
      "50%     0.625000   0.813953   0.283268   0.000000\n",
      "75%     0.812500   0.917774   0.550035   1.000000\n",
      "max     1.000000   1.000000   1.000000   1.000000\n"
     ]
    }
   ],
   "source": [
    "for column in df.columns:\n",
    "    max_value= df[column].max()\n",
    "    if max_value!=0:\n",
    "      df[column]=df[column]/max_value\n",
    "print(df.describe())"
   ]
  },
  {
   "cell_type": "markdown",
   "id": "9d45257d-80c0-40ce-aa78-f5f3b055b273",
   "metadata": {},
   "source": [
    "## 2. Build a neural network using TensorFlow and Keras:\n",
    "* Define the input layer with the correct number of features.\n",
    "* Add at least two hidden layers with ReLU activation functiona.\n",
    "* Define the output layer with an appropriate activation function (e.g., Sigmoid for binary classification)."
   ]
  },
  {
   "cell_type": "code",
   "execution_count": null,
   "id": "f65f3fae-348c-44eb-94c9-102078c0d0b9",
   "metadata": {},
   "outputs": [],
   "source": []
  },
  {
   "cell_type": "markdown",
   "id": "a548bec7-3b0c-4dce-a364-84dd71c36649",
   "metadata": {},
   "source": [
    "## 3. Train the neural network:\n",
    "* Use an optimizer such as Adam and a suitable loss function (e.g., binary crossentropy)\n",
    "* Split the data into training and testing sets.\n",
    "* Use the fit() method to train the model and monitor performance."
   ]
  },
  {
   "cell_type": "code",
   "execution_count": null,
   "id": "2d60843d-9d35-447d-8019-65ad4433c3ea",
   "metadata": {},
   "outputs": [],
   "source": []
  },
  {
   "cell_type": "markdown",
   "id": "75b5a61c-9852-4c61-b9c5-4246637b78bc",
   "metadata": {},
   "source": [
    "## 4. Evaluate the model:\n",
    "* Evaluate the model on the test data.\n",
    "* Report the accuracy, loss, and confusion matrix."
   ]
  },
  {
   "cell_type": "code",
   "execution_count": null,
   "id": "db5dcba0-c1b3-4c57-b75c-dd0219dd3771",
   "metadata": {},
   "outputs": [],
   "source": []
  },
  {
   "cell_type": "markdown",
   "id": "633b7f90-0114-43fa-89e8-c5f5a77e2e7b",
   "metadata": {},
   "source": [
    "## 5. Optimize the model:\n",
    "* Experiment with different hyperparameters such as learning rate, batch size, and epochs.\n",
    "* Apply regularization techniques (e.g., dropout) if needed to avoid overfitting."
   ]
  },
  {
   "cell_type": "code",
   "execution_count": null,
   "id": "517e593b-38e3-411e-8736-c32562998d31",
   "metadata": {},
   "outputs": [],
   "source": []
  }
 ],
 "metadata": {
  "kernelspec": {
   "display_name": "Python 3 (ipykernel)",
   "language": "python",
   "name": "python3"
  },
  "language_info": {
   "codemirror_mode": {
    "name": "ipython",
    "version": 3
   },
   "file_extension": ".py",
   "mimetype": "text/x-python",
   "name": "python",
   "nbconvert_exporter": "python",
   "pygments_lexer": "ipython3",
   "version": "3.9.13"
  }
 },
 "nbformat": 4,
 "nbformat_minor": 5
}
