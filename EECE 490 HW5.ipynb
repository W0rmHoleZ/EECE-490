{
 "cells": [
  {
   "cell_type": "markdown",
   "id": "8ca1520d-1b45-4854-af75-564274fcbcc5",
   "metadata": {},
   "source": [
    "# PART A LINK SUBMISSION HERE - Google Docs\n",
    "https://docs.google.com/document/d/11TD6UbdBGXgfR6d7mfKndAF1ip2ik2nAH2D9upuJm-w/edit?tab=t.0\n",
    "\n",
    "## Members:\n",
    "* Lana Houri Homsi 202300443\n",
    "* Ibrahim Seblini 202306845\n",
    "* Walid Zubdeh 202302117\n",
    "\n",
    "## 1. Import the dataset and perform data preprocessing (handle missing data, normalization):"
   ]
  },
  {
   "cell_type": "code",
   "execution_count": null,
   "id": "31e833c1-d815-4f40-b40d-d97238573fc1",
   "metadata": {},
   "outputs": [],
   "source": []
  },
  {
   "cell_type": "markdown",
   "id": "9d45257d-80c0-40ce-aa78-f5f3b055b273",
   "metadata": {},
   "source": [
    "## 2. Build a neural network using TensorFlow and Keras:\n",
    "* Define the input layer with the correct number of features.\n",
    "* Add at least two hidden layers with ReLU activation functiona.\n",
    "* Define the output layer with an appropriate activation function (e.g., Sigmoid for binary classification)."
   ]
  },
  {
   "cell_type": "code",
   "execution_count": null,
   "id": "f65f3fae-348c-44eb-94c9-102078c0d0b9",
   "metadata": {},
   "outputs": [],
   "source": []
  },
  {
   "cell_type": "markdown",
   "id": "a548bec7-3b0c-4dce-a364-84dd71c36649",
   "metadata": {},
   "source": [
    "## 3. Train the neural network:\n",
    "* Use an optimizer such as Adam and a suitable loss function (e.g., binary crossentropy)\n",
    "* Split the data into training and testing sets.\n",
    "* Use the fit() method to train the model and monitor performance."
   ]
  },
  {
   "cell_type": "code",
   "execution_count": null,
   "id": "2d60843d-9d35-447d-8019-65ad4433c3ea",
   "metadata": {},
   "outputs": [],
   "source": []
  },
  {
   "cell_type": "markdown",
   "id": "75b5a61c-9852-4c61-b9c5-4246637b78bc",
   "metadata": {},
   "source": [
    "## 4. Evaluate the model:\n",
    "* Evaluate the model on the test data.\n",
    "* Report the accuracy, loss, and confusion matrix."
   ]
  },
  {
   "cell_type": "code",
   "execution_count": null,
   "id": "db5dcba0-c1b3-4c57-b75c-dd0219dd3771",
   "metadata": {},
   "outputs": [],
   "source": []
  },
  {
   "cell_type": "markdown",
   "id": "633b7f90-0114-43fa-89e8-c5f5a77e2e7b",
   "metadata": {},
   "source": [
    "## 5. Optimize the model:\n",
    "* Experiment with different hyperparameters such as learning rate, batch size, and epochs.\n",
    "* Apply regularization techniques (e.g., dropout) if needed to avoid overfitting."
   ]
  },
  {
   "cell_type": "code",
   "execution_count": null,
   "id": "517e593b-38e3-411e-8736-c32562998d31",
   "metadata": {},
   "outputs": [],
   "source": []
  }
 ],
 "metadata": {
  "kernelspec": {
   "display_name": "Python 3 (ipykernel)",
   "language": "python",
   "name": "python3"
  },
  "language_info": {
   "codemirror_mode": {
    "name": "ipython",
    "version": 3
   },
   "file_extension": ".py",
   "mimetype": "text/x-python",
   "name": "python",
   "nbconvert_exporter": "python",
   "pygments_lexer": "ipython3",
   "version": "3.12.7"
  }
 },
 "nbformat": 4,
 "nbformat_minor": 5
}
